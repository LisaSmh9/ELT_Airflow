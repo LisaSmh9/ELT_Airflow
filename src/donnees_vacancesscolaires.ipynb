{
 "cells": [
  {
   "cell_type": "code",
   "execution_count": 2,
   "metadata": {},
   "outputs": [],
   "source": [
    "import pandas as pd\n",
    "from datetime import datetime, timedelta\n",
    "from vacances_scolaires_france import SchoolHolidayDates\n",
    "import holidays"
   ]
  },
  {
   "cell_type": "code",
   "execution_count": 3,
   "metadata": {},
   "outputs": [],
   "source": [
    "# Définir la plage de dates souhaitée\n",
    "start_date = datetime(2023, 1, 1)  # Date de début\n",
    "end_date = datetime(2025, 3, 1)  # Date de fin\n",
    "date_range = pd.date_range(start=start_date, end=end_date)\n"
   ]
  },
  {
   "cell_type": "code",
   "execution_count": null,
   "metadata": {},
   "outputs": [],
   "source": [
    "# Initialiser les objets pour récupérer les vacances et jours fériés\n",
    "school_holidays = SchoolHolidayDates()\n",
    "fr_holidays = holidays.France()\n",
    "\n",
    "# Créer une liste pour stocker les données\n",
    "vacances_data = []\n",
    "\n",
    "for date in date_range:\n",
    "    str_date = date.strftime(\"%Y-%m-%d\")\n",
    "\n",
    "    # Vérifier les vacances scolaires par zone\n",
    "    zone_a = school_holidays.is_holiday_for_zone(str_date, \"A\")\n",
    "    zone_b = school_holidays.is_holiday_for_zone(str_date, \"B\")\n",
    "    zone_c = school_holidays.is_holiday_for_zone(str_date, \"C\")\n",
    "\n",
    "    # Obtenir le nom de la période de vacances (ex: Vacances de la Toussaint)\n",
    "    nom_vacances = school_holidays.get_holiday_name(str_date)\n",
    "\n",
    "    # Vérifier si c'est un jour férié\n",
    "    is_public_holiday = str_date in fr_holidays\n",
    "\n",
    "    # Ajouter la ligne au dataset\n",
    "    vacances_data.append([str_date, zone_a, zone_b, zone_c, nom_vacances, is_public_holiday])\n",
    "\n",
    "# Créer un DataFrame Pandas\n",
    "df_vacances = pd.DataFrame(vacances_data, columns=[\"date\", \"vacances_zone_a\", \"vacances_zone_b\", \"vacances_zone_c\", \"nom_vacances\", \"is_public_holiday\"])\n",
    "\n"
   ]
  },
  {
   "cell_type": "code",
   "execution_count": null,
   "metadata": {},
   "outputs": [],
   "source": [
    "# Afficher le DataFrame\n",
    "print(df_vacances)"
   ]
  }
 ],
 "metadata": {
  "kernelspec": {
   "display_name": "Python 3",
   "language": "python",
   "name": "python3"
  },
  "language_info": {
   "codemirror_mode": {
    "name": "ipython",
    "version": 3
   },
   "file_extension": ".py",
   "mimetype": "text/x-python",
   "name": "python",
   "nbconvert_exporter": "python",
   "pygments_lexer": "ipython3",
   "version": "3.12.4"
  }
 },
 "nbformat": 4,
 "nbformat_minor": 2
}
